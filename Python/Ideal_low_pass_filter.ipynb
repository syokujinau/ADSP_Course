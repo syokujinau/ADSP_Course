{
 "cells": [
  {
   "cell_type": "markdown",
   "metadata": {},
   "source": [
    "# Ideal low pass filter"
   ]
  },
  {
   "cell_type": "markdown",
   "metadata": {},
   "source": [
    "$H(j \\omega) \\begin{cases} e^{-j \\omega t_0} & \\text{ , }  |\\omega| \\leq \\omega_c \\\\ 0 & \\text{ , } |\\omega| > \\omega_c \\end{cases}$\n",
    "\n",
    "$\\omega_c = 2 \\pi f_c$ ,which is cutoff frequency"
   ]
  },
  {
   "cell_type": "markdown",
   "metadata": {},
   "source": [
    "Take the inverse Fourier Transform of $H(j \\omega)$ to obtain $h(t)$"
   ]
  },
  {
   "cell_type": "markdown",
   "metadata": {},
   "source": [
    "<img src=\"https://latex.codecogs.com/gif.latex?h(t) = \\frac{1}{2 \\pi} \\int^{w_c}_{-w_c}e^{-j\\omega t_0} \\cdot e^{j\\omega t} d \\omega\">\n",
    "<img src=\"https://latex.codecogs.com/gif.latex?= \\frac{1}{2\\pi} \\frac{e^{j\\omega (t-t_0)}}{j(t-t_0)} |^{w_c}_{-w_c}\">\n",
    "<img src=\"https://latex.codecogs.com/gif.latex?=\\frac{sin(\\omega_{c}(t-t_0))}{\\pi(t-t_0)}\">"
   ]
  },
  {
   "cell_type": "markdown",
   "metadata": {},
   "source": [
    "Definition of sinc function: $sinc(wt) = \\frac{sin(\\pi \\omega t)}{\\pi \\omega t}$"
   ]
  },
  {
   "cell_type": "markdown",
   "metadata": {},
   "source": [
    "<img src=\"https://latex.codecogs.com/gif.latex?h(t) = \\frac{\\omega_c}{\\pi}sinc(\\frac{\\omega_c}{\\pi}(t-t_0))\">"
   ]
  },
  {
   "cell_type": "markdown",
   "metadata": {},
   "source": [
    "Take the inverse DTFT of $H(j \\omega)$ to obtain $h[n]$"
   ]
  },
  {
   "cell_type": "markdown",
   "metadata": {},
   "source": [
    "<img src=\"https://latex.codecogs.com/gif.latex?h[n] = \\frac{1}{2\\pi} \\int^{\\omega_c}_{-\\omega_c} 1 \\cdot e^{j\\omega n} d\\omega \">\n",
    "\n",
    "<img src=\"https://latex.codecogs.com/gif.latex?= \\frac{1}{2\\pi} \\cdot \\frac{1}{jn} e^{j \\omega n}|^{\\omega_c}_{-\\omega_c}\">\n",
    "\n",
    "<img src=\"https://latex.codecogs.com/gif.latex?= \\frac{1}{2\\pi} (\\frac{e^{j \\omega_c n}}{jn} - \\frac{e^{-j \\omega_c n}}{jn})\">\n",
    "\n",
    "<img src=\"https://latex.codecogs.com/gif.latex?h[n] = \\frac{1}{2\\pi} \\int^{\\omega_c}_{-\\omega_c} 1 \\cdot e^{j\\omega n} d\\omega \">\n",
    "\n",
    "<img src=\"https://latex.codecogs.com/gif.latex?h[n] = \\frac{1}{2\\pi} \\int^{\\omega_c}_{-\\omega_c} 1 \\cdot e^{j\\omega n} d\\omega \">"
   ]
  },
  {
   "cell_type": "code",
   "execution_count": 26,
   "metadata": {},
   "outputs": [],
   "source": [
    "import numpy as np\n",
    "import matplotlib.pyplot as plt\n",
    "import scipy.signal as signal"
   ]
  },
  {
   "cell_type": "code",
   "execution_count": 9,
   "metadata": {},
   "outputs": [],
   "source": [
    "filter_size = 15\n",
    "filter_half = int( filter_size / 2 )"
   ]
  },
  {
   "cell_type": "code",
   "execution_count": 10,
   "metadata": {},
   "outputs": [],
   "source": [
    "wc = np.pi / 2\n",
    "\n",
    "na = np.arange(-filter_half, filter_half + 1) \n",
    "h = np.zeros(filter_size)                     "
   ]
  },
  {
   "cell_type": "code",
   "execution_count": 17,
   "metadata": {},
   "outputs": [
    {
     "data": {
      "text/plain": [
       "array([0., 0., 0., 0., 0., 0., 0., 0., 0., 0., 0., 0., 0., 0., 0.])"
      ]
     },
     "execution_count": 17,
     "metadata": {},
     "output_type": "execute_result"
    }
   ],
   "source": [
    "h"
   ]
  },
  {
   "cell_type": "code",
   "execution_count": 11,
   "metadata": {},
   "outputs": [],
   "source": [
    "for n in na:\n",
    "    if n == 0: \n",
    "        h[n + filter_half] = 0.5\n",
    "    else:\n",
    "        h[n + filter_half] = np.sin(wc * n) / (np.pi * n)"
   ]
  },
  {
   "cell_type": "code",
   "execution_count": 12,
   "metadata": {},
   "outputs": [
    {
     "data": {
      "text/plain": [
       "Text(0,0.5,'h[n]')"
      ]
     },
     "execution_count": 12,
     "metadata": {},
     "output_type": "execute_result"
    },
    {
     "data": {
      "image/png": "[encoded data removed]",
      "text/plain": [
       "<Figure size 432x288 with 1 Axes>"
      ]
     },
     "metadata": {
      "needs_background": "light"
     },
     "output_type": "display_data"
    }
   ],
   "source": [
    "plt.stem( na, h )\n",
    "plt.title('impluse response')\n",
    "plt.xlabel('n')\n",
    "plt.ylabel('h[n]')"
   ]
  },
  {
   "cell_type": "code",
   "execution_count": 13,
   "metadata": {},
   "outputs": [
    {
     "data": {
      "text/plain": [
       "Text(0,0.5,'Magnitude')"
      ]
     },
     "execution_count": 13,
     "metadata": {},
     "output_type": "execute_result"
    },
    {
     "data": {
      "image/png": "[encoded data removed]",
      "text/plain": [
       "<Figure size 432x288 with 1 Axes>"
      ]
     },
     "metadata": {
      "needs_background": "light"
     },
     "output_type": "display_data"
    }
   ],
   "source": [
    "w, H = signal.freqz(h)\n",
    "mag = abs(H)\n",
    "\n",
    "plt.plot( w, mag )\n",
    "plt.title('frequency response')\n",
    "plt.xlabel(r'$\\omega$')\n",
    "plt.ylabel('Magnitude')"
   ]
  }
 ],
 "metadata": {
  "kernelspec": {
   "display_name": "Python 2",
   "language": "python",
   "name": "python2"
  },
  "language_info": {
   "codemirror_mode": {
    "name": "ipython",
    "version": 2
   },
   "file_extension": ".py",
   "mimetype": "text/x-python",
   "name": "python",
   "nbconvert_exporter": "python",
   "pygments_lexer": "ipython2",
   "version": "2.7.15"
  }
 },
 "nbformat": 4,
 "nbformat_minor": 2
}
