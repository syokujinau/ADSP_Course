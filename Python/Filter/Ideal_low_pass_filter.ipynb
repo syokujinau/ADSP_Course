{
 "cells": [
  {
   "cell_type": "markdown",
   "metadata": {},
   "source": [
    "# Ideal low pass filter"
   ]
  },
  {
   "cell_type": "markdown",
   "metadata": {},
   "source": [
    "$H(j \\omega) = \\begin{cases} e^{-j \\omega t_0} & \\text{ , }  |\\omega| \\leq \\omega_c \\\\ 0 & \\text{ , } |\\omega| > \\omega_c \\end{cases}$\n",
    "\n",
    "$\\omega_c = 2 \\pi f_c$ ,which is cutoff frequency"
   ]
  },
  {
   "cell_type": "markdown",
   "metadata": {},
   "source": [
    "Take the inverse Fourier Transform of $H(j \\omega)$ to obtain $h(t)$"
   ]
  },
  {
   "cell_type": "markdown",
   "metadata": {},
   "source": [
    "<img src=\"https://latex.codecogs.com/gif.latex?h(t) = \\frac{1}{2 \\pi} \\int^{w_c}_{-w_c}e^{-j\\omega t_0} \\cdot e^{j\\omega t} d \\omega\">\n",
    "<img src=\"https://latex.codecogs.com/gif.latex?= \\frac{1}{2\\pi} \\frac{e^{j\\omega (t-t_0)}}{j(t-t_0)} |^{w_c}_{-w_c}\">\n",
    "<img src=\"https://latex.codecogs.com/gif.latex?=\\frac{sin(\\omega_{c}(t-t_0))}{\\pi(t-t_0)}\">"
   ]
  },
  {
   "cell_type": "markdown",
   "metadata": {},
   "source": [
    "Definition of sinc function: $sinc(wt) = \\frac{sin(\\pi \\omega t)}{\\pi \\omega t}$"
   ]
  },
  {
   "cell_type": "markdown",
   "metadata": {},
   "source": [
    "<img src=\"https://latex.codecogs.com/gif.latex?h(t) = \\frac{\\omega_c}{\\pi}sinc(\\frac{\\omega_c}{\\pi}(t-t_0))\">"
   ]
  },
  {
   "cell_type": "markdown",
   "metadata": {},
   "source": [
    "Take the inverse DTFT of $H(j \\omega)$ to obtain $h[n]$"
   ]
  },
  {
   "cell_type": "markdown",
   "metadata": {},
   "source": [
    "<img src=\"https://latex.codecogs.com/gif.latex?h[n] = \\frac{1}{2\\pi} \\int^{\\omega_c}_{-\\omega_c} 1 \\cdot e^{j\\omega n} d\\omega \">\n",
    "\n",
    "<img src=\"https://latex.codecogs.com/gif.latex?= \\frac{1}{2\\pi} \\cdot \\frac{1}{jn} e^{j \\omega n}|^{\\omega_c}_{-\\omega_c}\">\n",
    "\n",
    "<img src=\"https://latex.codecogs.com/gif.latex?= \\frac{1}{2\\pi} (\\frac{e^{j \\omega_c n}}{jn} - \\frac{e^{-j \\omega_c n}}{jn})\">\n",
    "\n",
    "<img src=\"https://latex.codecogs.com/gif.latex?= \\frac{sin(\\omega_c n) }{\\pi n }\">"
   ]
  },
  {
   "cell_type": "markdown",
   "metadata": {},
   "source": [
    "When $n = 0$, derive it by L'Hôpital's rule\n",
    "\n",
    "<img src=\"https://latex.codecogs.com/gif.latex?h[0] = \\lim_{n\\rightarrow 0} \\frac{\\frac{\\mathrm{d} }{\\mathrm{d} n} sin(\\omega_c n)}{\\frac{\\mathrm{d} }{\\mathrm{d} n} (\\pi n)} = \\lim_{n\\rightarrow 0} \\frac{cos(\\omega_c n) \\cdot \\omega_c}{\\pi } = \\frac{\\omega_c}{\\pi}\">"
   ]
  },
  {
   "cell_type": "code",
   "execution_count": 1,
   "metadata": {},
   "outputs": [],
   "source": [
    "import numpy as np\n",
    "import matplotlib.pyplot as plt\n",
    "import scipy.signal as signal"
   ]
  },
  {
   "cell_type": "code",
   "execution_count": 2,
   "metadata": {},
   "outputs": [],
   "source": [
    "filter_size = 15\n",
    "filter_half = int( filter_size / 2 )"
   ]
  },
  {
   "cell_type": "markdown",
   "metadata": {},
   "source": [
    "let $\\omega_c = \\frac{\\pi}{2} \\cong 1.57$"
   ]
  },
  {
   "cell_type": "code",
   "execution_count": 3,
   "metadata": {},
   "outputs": [],
   "source": [
    "wc = np.pi / 2 "
   ]
  },
  {
   "cell_type": "code",
   "execution_count": 4,
   "metadata": {},
   "outputs": [],
   "source": [
    "na = np.arange(-filter_half, filter_half + 1) \n",
    "h = np.zeros(filter_size)                     "
   ]
  },
  {
   "cell_type": "code",
   "execution_count": 5,
   "metadata": {},
   "outputs": [],
   "source": [
    "for n in na:\n",
    "    if n == 0: \n",
    "        h[n + filter_half] = wc / np.pi\n",
    "    else:\n",
    "        h[n + filter_half] = np.sin(wc * n) / (np.pi * n)"
   ]
  },
  {
   "cell_type": "code",
   "execution_count": 8,
   "metadata": {},
   "outputs": [
    {
     "data": {
      "text/plain": [
       "Text(0, 0.5, 'h[n]')"
      ]
     },
     "execution_count": 8,
     "metadata": {},
     "output_type": "execute_result"
    },
    {
     "data": {
      "image/png": "[encoded data removed]",
      "text/plain": [
       "<Figure size 432x288 with 1 Axes>"
      ]
     },
     "metadata": {
      "needs_background": "light"
     },
     "output_type": "display_data"
    }
   ],
   "source": [
    "plt.stem(na, h, use_line_collection=True)\n",
    "plt.title('impluse response')\n",
    "plt.xlabel('n')\n",
    "plt.ylabel('h[n]')"
   ]
  },
  {
   "cell_type": "code",
   "execution_count": 9,
   "metadata": {},
   "outputs": [
    {
     "data": {
      "text/plain": [
       "Text(0, 0.5, 'Magnitude')"
      ]
     },
     "execution_count": 9,
     "metadata": {},
     "output_type": "execute_result"
    },
    {
     "data": {
      "image/png": "[encoded data removed]",
      "text/plain": [
       "<Figure size 432x288 with 1 Axes>"
      ]
     },
     "metadata": {
      "needs_background": "light"
     },
     "output_type": "display_data"
    }
   ],
   "source": [
    "w, H = signal.freqz(h)\n",
    "mag = abs(H)\n",
    "\n",
    "plt.plot( w, mag )\n",
    "plt.title('frequency response')\n",
    "plt.xlabel(r'$\\omega$')\n",
    "plt.ylabel('Magnitude')"
   ]
  },
  {
   "cell_type": "code",
   "execution_count": null,
   "metadata": {},
   "outputs": [],
   "source": []
  },
  {
   "cell_type": "code",
   "execution_count": null,
   "metadata": {},
   "outputs": [],
   "source": []
  }
 ],
 "metadata": {
  "kernelspec": {
   "display_name": "Python 3",
   "language": "python",
   "name": "python3"
  },
  "language_info": {
   "codemirror_mode": {
    "name": "ipython",
    "version": 3
   },
   "file_extension": ".py",
   "mimetype": "text/x-python",
   "name": "python",
   "nbconvert_exporter": "python",
   "pygments_lexer": "ipython3",
   "version": "3.6.8"
  }
 },
 "nbformat": 4,
 "nbformat_minor": 2
}
